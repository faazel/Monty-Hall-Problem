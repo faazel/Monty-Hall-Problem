{
 "cells": [
  {
   "cell_type": "code",
   "execution_count": 60,
   "metadata": {},
   "outputs": [],
   "source": [
    "import random"
   ]
  },
  {
   "cell_type": "code",
   "execution_count": 61,
   "metadata": {},
   "outputs": [
    {
     "name": "stdout",
     "output_type": "stream",
     "text": [
      "0.3358\n"
     ]
    }
   ],
   "source": [
    "# A MAN KEEPS HIS WORDS!\n",
    "win = 0\n",
    "total = 10000\n",
    "for i in range (10000) :\n",
    "    my_doors = random.sample(['False1', 'False2', 'True'], k=3)\n",
    "    my_choice = random.randint(0,2)\n",
    "    doors = list(range(0,3))\n",
    "    doors.remove(my_choice)\n",
    "    if 'False' in my_doors[my_choice] :\n",
    "        for j in doors :\n",
    "            if 'False' in my_doors[j] :\n",
    "                Mojri = j\n",
    "    else :\n",
    "        Mojri = random.choice (doors)\n",
    "    doors.remove (Mojri)\n",
    "    if 'True' in my_doors[my_choice] :\n",
    "        win += 1\n",
    "print (win/total)"
   ]
  },
  {
   "cell_type": "code",
   "execution_count": 62,
   "metadata": {},
   "outputs": [
    {
     "name": "stdout",
     "output_type": "stream",
     "text": [
      "0.6652\n"
     ]
    }
   ],
   "source": [
    "# Without trust, We're wildlings!\n",
    "win = 0\n",
    "for i in range (10000) :\n",
    "    my_doors = random.sample(['False1', 'False2', 'True'], k=3)\n",
    "    my_choice = random.randint(0,2)\n",
    "    doors = list(range(0,3))\n",
    "    doors.remove(my_choice)\n",
    "    if 'False' in my_doors[my_choice] :\n",
    "        for j in doors :\n",
    "            if 'False' in my_doors[j] :\n",
    "                Mojri = j\n",
    "    else :\n",
    "        Mojri = random.choice (doors)\n",
    "    doors.remove (Mojri)\n",
    "    my_choice = random.choice (doors)\n",
    "    if 'True' in my_doors[my_choice] :\n",
    "        win += 1\n",
    "print (win/total)"
   ]
  },
  {
   "cell_type": "code",
   "execution_count": null,
   "metadata": {},
   "outputs": [],
   "source": []
  }
 ],
 "metadata": {
  "kernelspec": {
   "display_name": "Python 3",
   "language": "python",
   "name": "python3"
  },
  "language_info": {
   "codemirror_mode": {
    "name": "ipython",
    "version": 3
   },
   "file_extension": ".py",
   "mimetype": "text/x-python",
   "name": "python",
   "nbconvert_exporter": "python",
   "pygments_lexer": "ipython3",
   "version": "3.7.3"
  }
 },
 "nbformat": 4,
 "nbformat_minor": 4
}
